{
 "cells": [
  {
   "cell_type": "code",
   "execution_count": 1,
   "metadata": {},
   "outputs": [],
   "source": [
    "import numpy as np\n",
    "import pandas as pd\n",
    "import seaborn as sns\n",
    "import matplotlib.pyplot as plt\n",
    "import nltk\n",
    "\n",
    "from sklearn.model_selection import cross_val_score\n",
    "from nltk.stem import WordNetLemmatizer\n",
    "from bs4 import BeautifulSoup\n",
    "from nltk.corpus import stopwords\n",
    "from nltk.stem.porter import PorterStemmer\n",
    "from nltk.tokenize import word_tokenize,sent_tokenize\n",
    "import spacy\n",
    "import re,string,unicodedata\n",
    "import warnings\n",
    "from sklearn.svm import SVC\n",
    "warnings.filterwarnings('ignore')\n",
    "from IPython.display import display, HTML\n",
    "from sklearn.feature_extraction.text import TfidfVectorizer,CountVectorizer\n",
    "from sklearn.model_selection import train_test_split\n",
    "from sklearn import naive_bayes, metrics\n",
    "from sklearn.svm import LinearSVC\n",
    "from sklearn.linear_model import LogisticRegression\n",
    "import fasttext\n",
    "from sklearn.metrics import confusion_matrix"
   ]
  },
  {
   "cell_type": "code",
   "execution_count": 2,
   "metadata": {},
   "outputs": [],
   "source": [
    "# nltk.download('punkt')   # one time execution\n",
    "# nltk.download('stopwords')  # one time execution\n",
    "# nltk.download('wordnet') # one time execution"
   ]
  },
  {
   "cell_type": "markdown",
   "metadata": {},
   "source": [
    "# ÖNİŞLEME"
   ]
  },
  {
   "cell_type": "code",
   "execution_count": 3,
   "metadata": {},
   "outputs": [
    {
     "data": {
      "text/html": [
       "<div>\n",
       "<style scoped>\n",
       "    .dataframe tbody tr th:only-of-type {\n",
       "        vertical-align: middle;\n",
       "    }\n",
       "\n",
       "    .dataframe tbody tr th {\n",
       "        vertical-align: top;\n",
       "    }\n",
       "\n",
       "    .dataframe thead th {\n",
       "        text-align: right;\n",
       "    }\n",
       "</style>\n",
       "<table border=\"1\" class=\"dataframe\">\n",
       "  <thead>\n",
       "    <tr style=\"text-align: right;\">\n",
       "      <th></th>\n",
       "      <th>review</th>\n",
       "      <th>sentiment</th>\n",
       "    </tr>\n",
       "  </thead>\n",
       "  <tbody>\n",
       "    <tr>\n",
       "      <th>0</th>\n",
       "      <td>One of the other reviewers has mentioned that ...</td>\n",
       "      <td>positive</td>\n",
       "    </tr>\n",
       "    <tr>\n",
       "      <th>1</th>\n",
       "      <td>A wonderful little production. &lt;br /&gt;&lt;br /&gt;The...</td>\n",
       "      <td>positive</td>\n",
       "    </tr>\n",
       "    <tr>\n",
       "      <th>2</th>\n",
       "      <td>I thought this was a wonderful way to spend ti...</td>\n",
       "      <td>positive</td>\n",
       "    </tr>\n",
       "    <tr>\n",
       "      <th>3</th>\n",
       "      <td>Basically there's a family where a little boy ...</td>\n",
       "      <td>negative</td>\n",
       "    </tr>\n",
       "    <tr>\n",
       "      <th>4</th>\n",
       "      <td>Petter Mattei's \"Love in the Time of Money\" is...</td>\n",
       "      <td>positive</td>\n",
       "    </tr>\n",
       "    <tr>\n",
       "      <th>5</th>\n",
       "      <td>Probably my all-time favorite movie, a story o...</td>\n",
       "      <td>positive</td>\n",
       "    </tr>\n",
       "    <tr>\n",
       "      <th>6</th>\n",
       "      <td>I sure would like to see a resurrection of a u...</td>\n",
       "      <td>positive</td>\n",
       "    </tr>\n",
       "    <tr>\n",
       "      <th>7</th>\n",
       "      <td>This show was an amazing, fresh &amp; innovative i...</td>\n",
       "      <td>negative</td>\n",
       "    </tr>\n",
       "    <tr>\n",
       "      <th>8</th>\n",
       "      <td>Encouraged by the positive comments about this...</td>\n",
       "      <td>negative</td>\n",
       "    </tr>\n",
       "    <tr>\n",
       "      <th>9</th>\n",
       "      <td>If you like original gut wrenching laughter yo...</td>\n",
       "      <td>positive</td>\n",
       "    </tr>\n",
       "  </tbody>\n",
       "</table>\n",
       "</div>"
      ],
      "text/plain": [
       "                                              review sentiment\n",
       "0  One of the other reviewers has mentioned that ...  positive\n",
       "1  A wonderful little production. <br /><br />The...  positive\n",
       "2  I thought this was a wonderful way to spend ti...  positive\n",
       "3  Basically there's a family where a little boy ...  negative\n",
       "4  Petter Mattei's \"Love in the Time of Money\" is...  positive\n",
       "5  Probably my all-time favorite movie, a story o...  positive\n",
       "6  I sure would like to see a resurrection of a u...  positive\n",
       "7  This show was an amazing, fresh & innovative i...  negative\n",
       "8  Encouraged by the positive comments about this...  negative\n",
       "9  If you like original gut wrenching laughter yo...  positive"
      ]
     },
     "execution_count": 3,
     "metadata": {},
     "output_type": "execute_result"
    }
   ],
   "source": [
    "df = pd.read_csv('Data.csv')\n",
    "df.head(10)"
   ]
  },
  {
   "cell_type": "code",
   "execution_count": 4,
   "metadata": {},
   "outputs": [
    {
     "data": {
      "text/html": [
       "<div>\n",
       "<style scoped>\n",
       "    .dataframe tbody tr th:only-of-type {\n",
       "        vertical-align: middle;\n",
       "    }\n",
       "\n",
       "    .dataframe tbody tr th {\n",
       "        vertical-align: top;\n",
       "    }\n",
       "\n",
       "    .dataframe thead th {\n",
       "        text-align: right;\n",
       "    }\n",
       "</style>\n",
       "<table border=\"1\" class=\"dataframe\">\n",
       "  <thead>\n",
       "    <tr style=\"text-align: right;\">\n",
       "      <th></th>\n",
       "      <th>review</th>\n",
       "      <th>sentiment</th>\n",
       "    </tr>\n",
       "  </thead>\n",
       "  <tbody>\n",
       "    <tr>\n",
       "      <th>count</th>\n",
       "      <td>50000</td>\n",
       "      <td>50000</td>\n",
       "    </tr>\n",
       "    <tr>\n",
       "      <th>unique</th>\n",
       "      <td>49582</td>\n",
       "      <td>2</td>\n",
       "    </tr>\n",
       "    <tr>\n",
       "      <th>top</th>\n",
       "      <td>Loved today's show!!! It was a variety and not...</td>\n",
       "      <td>positive</td>\n",
       "    </tr>\n",
       "    <tr>\n",
       "      <th>freq</th>\n",
       "      <td>5</td>\n",
       "      <td>25000</td>\n",
       "    </tr>\n",
       "  </tbody>\n",
       "</table>\n",
       "</div>"
      ],
      "text/plain": [
       "                                                   review sentiment\n",
       "count                                               50000     50000\n",
       "unique                                              49582         2\n",
       "top     Loved today's show!!! It was a variety and not...  positive\n",
       "freq                                                    5     25000"
      ]
     },
     "execution_count": 4,
     "metadata": {},
     "output_type": "execute_result"
    }
   ],
   "source": [
    "df.describe()"
   ]
  },
  {
   "cell_type": "code",
   "execution_count": 5,
   "metadata": {},
   "outputs": [
    {
     "data": {
      "text/plain": [
       "sentiment\n",
       "positive    25000\n",
       "negative    25000\n",
       "dtype: int64"
      ]
     },
     "execution_count": 5,
     "metadata": {},
     "output_type": "execute_result"
    }
   ],
   "source": [
    "df.value_counts('sentiment')"
   ]
  },
  {
   "cell_type": "code",
   "execution_count": 6,
   "metadata": {},
   "outputs": [],
   "source": [
    "def cleaninTxt(text):\n",
    "    soup = BeautifulSoup(text, \"html.parser\")\n",
    "    text = soup.get_text()\n",
    "    \n",
    "    text = re.sub('[^a-zA-Z]', ' ', text)\n",
    "    text = text.lower()\n",
    "    return text"
   ]
  },
  {
   "cell_type": "code",
   "execution_count": 7,
   "metadata": {},
   "outputs": [],
   "source": [
    "df['review']=df['review'].apply(cleaninTxt)"
   ]
  },
  {
   "cell_type": "code",
   "execution_count": 8,
   "metadata": {},
   "outputs": [],
   "source": [
    "lemmatizer = WordNetLemmatizer() \n",
    "def stemTxt(text):\n",
    "    global lemmatizer\n",
    "    \n",
    "    newtxt = ''\n",
    "    for i in text.split():\n",
    "        if i not in stopwords.words('english'):\n",
    "            newtxt+=lemmatizer.lemmatize(i)+' '\n",
    "    \n",
    "    return newtxt"
   ]
  },
  {
   "cell_type": "code",
   "execution_count": 9,
   "metadata": {},
   "outputs": [
    {
     "name": "stdout",
     "output_type": "stream",
     "text": [
      "a wonderful little production  the filming technique is very unassuming  very old time bbc fashion and gives a comforting  and sometimes discomforting  sense of realism to the entire piece  the actors are extremely well chosen  michael sheen not only  has got all the polari  but he has all the voices down pat too  you can truly see the seamless editing guided by the references to williams  diary entries  not only is it well worth the watching but it is a terrificly written and performed piece  a masterful production about one of the great master s of comedy and his life  the realism really comes home with the little things  the fantasy of the guard which  rather than use the traditional  dream  techniques remains solid then disappears  it plays on our knowledge and our senses  particularly with the scenes concerning orton and halliwell and the sets  particularly of their flat with halliwell s murals decorating every surface  are terribly well done  \n",
      "\n",
      "\n",
      "\n",
      "wonderful little production filming technique unassuming old time bbc fashion give comforting sometimes discomforting sense realism entire piece actor extremely well chosen michael sheen got polari voice pat truly see seamless editing guided reference williams diary entry well worth watching terrificly written performed piece masterful production one great master comedy life realism really come home little thing fantasy guard rather use traditional dream technique remains solid disappears play knowledge sens particularly scene concerning orton halliwell set particularly flat halliwell mural decorating every surface terribly well done \n"
     ]
    }
   ],
   "source": [
    "## Kelimelerin köklerini bulma ve stopwordleri temizleme örneği\n",
    "a = df['review'].get(1)\n",
    "print(a,'\\n\\n\\n')\n",
    "\n",
    "a = stemTxt(a)\n",
    "print(a)"
   ]
  },
  {
   "cell_type": "code",
   "execution_count": 10,
   "metadata": {},
   "outputs": [],
   "source": [
    "df['review']=df['review'].apply(stemTxt)\n"
   ]
  },
  {
   "cell_type": "code",
   "execution_count": 11,
   "metadata": {},
   "outputs": [],
   "source": [
    "df.to_csv(\"processed.csv\")"
   ]
  },
  {
   "cell_type": "code",
   "execution_count": 12,
   "metadata": {},
   "outputs": [
    {
     "data": {
      "text/html": [
       "<div>\n",
       "<style scoped>\n",
       "    .dataframe tbody tr th:only-of-type {\n",
       "        vertical-align: middle;\n",
       "    }\n",
       "\n",
       "    .dataframe tbody tr th {\n",
       "        vertical-align: top;\n",
       "    }\n",
       "\n",
       "    .dataframe thead th {\n",
       "        text-align: right;\n",
       "    }\n",
       "</style>\n",
       "<table border=\"1\" class=\"dataframe\">\n",
       "  <thead>\n",
       "    <tr style=\"text-align: right;\">\n",
       "      <th></th>\n",
       "      <th>review</th>\n",
       "      <th>sentiment</th>\n",
       "    </tr>\n",
       "  </thead>\n",
       "  <tbody>\n",
       "    <tr>\n",
       "      <th>0</th>\n",
       "      <td>one reviewer mentioned watching oz episode hoo...</td>\n",
       "      <td>positive</td>\n",
       "    </tr>\n",
       "    <tr>\n",
       "      <th>1</th>\n",
       "      <td>wonderful little production filming technique ...</td>\n",
       "      <td>positive</td>\n",
       "    </tr>\n",
       "    <tr>\n",
       "      <th>2</th>\n",
       "      <td>thought wonderful way spend time hot summer we...</td>\n",
       "      <td>positive</td>\n",
       "    </tr>\n",
       "    <tr>\n",
       "      <th>3</th>\n",
       "      <td>basically family little boy jake think zombie ...</td>\n",
       "      <td>negative</td>\n",
       "    </tr>\n",
       "    <tr>\n",
       "      <th>4</th>\n",
       "      <td>petter mattei love time money visually stunnin...</td>\n",
       "      <td>positive</td>\n",
       "    </tr>\n",
       "    <tr>\n",
       "      <th>5</th>\n",
       "      <td>probably time favorite movie story selflessnes...</td>\n",
       "      <td>positive</td>\n",
       "    </tr>\n",
       "    <tr>\n",
       "      <th>6</th>\n",
       "      <td>sure would like see resurrection dated seahunt...</td>\n",
       "      <td>positive</td>\n",
       "    </tr>\n",
       "    <tr>\n",
       "      <th>7</th>\n",
       "      <td>show amazing fresh innovative idea first aired...</td>\n",
       "      <td>negative</td>\n",
       "    </tr>\n",
       "    <tr>\n",
       "      <th>8</th>\n",
       "      <td>encouraged positive comment film looking forwa...</td>\n",
       "      <td>negative</td>\n",
       "    </tr>\n",
       "    <tr>\n",
       "      <th>9</th>\n",
       "      <td>like original gut wrenching laughter like movi...</td>\n",
       "      <td>positive</td>\n",
       "    </tr>\n",
       "  </tbody>\n",
       "</table>\n",
       "</div>"
      ],
      "text/plain": [
       "                                              review sentiment\n",
       "0  one reviewer mentioned watching oz episode hoo...  positive\n",
       "1  wonderful little production filming technique ...  positive\n",
       "2  thought wonderful way spend time hot summer we...  positive\n",
       "3  basically family little boy jake think zombie ...  negative\n",
       "4  petter mattei love time money visually stunnin...  positive\n",
       "5  probably time favorite movie story selflessnes...  positive\n",
       "6  sure would like see resurrection dated seahunt...  positive\n",
       "7  show amazing fresh innovative idea first aired...  negative\n",
       "8  encouraged positive comment film looking forwa...  negative\n",
       "9  like original gut wrenching laughter like movi...  positive"
      ]
     },
     "execution_count": 12,
     "metadata": {},
     "output_type": "execute_result"
    }
   ],
   "source": [
    "df.head(10)"
   ]
  },
  {
   "cell_type": "code",
   "execution_count": 3,
   "metadata": {},
   "outputs": [],
   "source": [
    "df = pd.read_csv(\"processed.csv\") # sonraki kullanımlar için "
   ]
  },
  {
   "cell_type": "code",
   "execution_count": 4,
   "metadata": {},
   "outputs": [],
   "source": [
    "X_train, X_test, y_train, y_test = train_test_split(df[\"review\"], df[\"sentiment\"], test_size=0.2) # FastText için"
   ]
  },
  {
   "cell_type": "markdown",
   "metadata": {},
   "source": [
    "# Count Vectorizer"
   ]
  },
  {
   "cell_type": "code",
   "execution_count": 5,
   "metadata": {},
   "outputs": [],
   "source": [
    "countVect = CountVectorizer(ngram_range=(1,2))\n",
    "# countVect.fit(X_train)\n",
    "# trainVectct = countVect.transform(X_train)\n",
    "# testVectct = countVect.transform(X_test)\n",
    "\n",
    "cvAll = countVect.fit_transform(df[\"review\"].values)"
   ]
  },
  {
   "cell_type": "markdown",
   "metadata": {},
   "source": [
    "# NAIVE BAYES - SVM - LOGISTIC REGRESSION + CountVect"
   ]
  },
  {
   "cell_type": "code",
   "execution_count": 6,
   "metadata": {},
   "outputs": [
    {
     "name": "stdout",
     "output_type": "stream",
     "text": [
      "Scores:  [0.8841 0.8893 0.8814 0.8802 0.8864] \n",
      "Accuracy:  0.8842799999999998\n"
     ]
    }
   ],
   "source": [
    "nbct = naive_bayes.MultinomialNB()\n",
    "# nbct.fit(trainVectct,y_train)\n",
    "# pred = nbct.predict(testVectct)\n",
    "# print(\"Accuracy: \",metrics.accuracy_score(y_test, pred))\n",
    "# print(\"Confusion Matrix:\\n\",confusion_matrix(y_test, pred))\n",
    "\n",
    "scores = cross_val_score(nbct, cvAll , df[\"sentiment\"].values, cv=5)\n",
    "print(\"Scores: \",scores,\"\\nAccuracy: \",scores.mean())"
   ]
  },
  {
   "cell_type": "code",
   "execution_count": 7,
   "metadata": {},
   "outputs": [
    {
     "name": "stdout",
     "output_type": "stream",
     "text": [
      "Scores:  [0.9015 0.8962 0.8962 0.8964 0.9001] \n",
      "Accuracy:  0.8980799999999999\n"
     ]
    }
   ],
   "source": [
    "svmct = LinearSVC()\n",
    "# svmct.fit(trainVectct,y_train)\n",
    "# pred = svmct.predict(testVectct)\n",
    "# print(\"Accuracy: \",metrics.accuracy_score(y_test, pred))\n",
    "# print(\"Confusion Matrix:\\n\",confusion_matrix(y_test, pred))\n",
    "\n",
    "scores = cross_val_score(svmct, cvAll , df[\"sentiment\"].values, cv=5)\n",
    "print(\"Scores: \",scores,\"\\nAccuracy: \",scores.mean())"
   ]
  },
  {
   "cell_type": "code",
   "execution_count": 8,
   "metadata": {},
   "outputs": [
    {
     "name": "stdout",
     "output_type": "stream",
     "text": [
      "C value:  0.001  Scores:  [0.8988 0.8942 0.8892 0.8952 0.8935] \n",
      "Accuracy:  0.8941800000000001 \n",
      "\n",
      "C value:  0.01  Scores:  [0.9074 0.8986 0.8989 0.8985 0.9026] \n",
      "Accuracy:  0.9012 \n",
      "\n",
      "C value:  0.1  Scores:  [0.9028 0.8958 0.8968 0.8973 0.9008] \n",
      "Accuracy:  0.8987 \n",
      "\n",
      "C value:  10  Scores:  [0.9012 0.896  0.8965 0.8957 0.8998] \n",
      "Accuracy:  0.8978400000000001 \n",
      "\n",
      "C value:  100  Scores:  [0.9012 0.8961 0.8966 0.8957 0.8999] \n",
      "Accuracy:  0.8978999999999999 \n",
      "\n",
      "C value:  1000  Scores:  [0.9012 0.8961 0.8966 0.8957 0.8999] \n",
      "Accuracy:  0.8978999999999999 \n",
      "\n"
     ]
    }
   ],
   "source": [
    "cVals = [0.001,0.01,0.1,10,100,1000]\n",
    "\n",
    "for i in cVals:\n",
    "    svmct = LinearSVC(C = i)\n",
    "    scores = cross_val_score(svmct, cvAll , df[\"sentiment\"].values, cv=5)\n",
    "    print(\"C value: \",i,\" Scores: \",scores,\"\\nAccuracy: \",scores.mean(),\"\\n\")"
   ]
  },
  {
   "cell_type": "code",
   "execution_count": 9,
   "metadata": {},
   "outputs": [
    {
     "name": "stdout",
     "output_type": "stream",
     "text": [
      "Scores:  [0.9051 0.8986 0.8992 0.8987 0.9017] \n",
      "Accuracy:  0.90066\n"
     ]
    }
   ],
   "source": [
    "lrct = LogisticRegression()\n",
    "# lrct.fit(trainVectct,y_train)\n",
    "# pred = lrct.predict(testVectct)\n",
    "# print(\"Accuracy: \",metrics.accuracy_score(y_test, pred))\n",
    "# print(\"Confusion Matrix:\\n\",confusion_matrix(y_test, pred))\n",
    "\n",
    "scores = cross_val_score(lrct, cvAll , df[\"sentiment\"].values, cv=5)\n",
    "print(\"Scores: \",scores,\"\\nAccuracy: \",scores.mean())"
   ]
  },
  {
   "cell_type": "markdown",
   "metadata": {},
   "source": [
    "# TF-IDF Vectorizer"
   ]
  },
  {
   "cell_type": "code",
   "execution_count": 10,
   "metadata": {},
   "outputs": [],
   "source": [
    "tfidfVect = TfidfVectorizer(ngram_range=(1,2))\n",
    "# tfidfVect.fit(X_train)\n",
    "# trainVect = tfidfVect.transform(X_train)\n",
    "# testVect = tfidfVect.transform(X_test)\n",
    "\n",
    "tfAll = tfidfVect.fit_transform(df[\"review\"].values)"
   ]
  },
  {
   "cell_type": "markdown",
   "metadata": {},
   "source": [
    "# NAIVE BAYES - SVM - LOGISTIC REGRESSION + TF-IDF"
   ]
  },
  {
   "cell_type": "code",
   "execution_count": 11,
   "metadata": {},
   "outputs": [
    {
     "name": "stdout",
     "output_type": "stream",
     "text": [
      "Scores:  [0.8848 0.8931 0.8865 0.8839 0.8897] \n",
      "Accuracy:  0.8876000000000002\n"
     ]
    }
   ],
   "source": [
    "nb = naive_bayes.MultinomialNB()\n",
    "# nb.fit(trainVect,y_train)\n",
    "# pred = nb.predict(testVect)\n",
    "# print(\"Accuracy: \",metrics.accuracy_score(y_test, pred))\n",
    "# print(\"Confusion Matrix:\\n\",confusion_matrix(y_test, pred))\n",
    "\n",
    "scores = cross_val_score(nb, tfAll , df[\"sentiment\"].values, cv=5)\n",
    "print(\"Scores: \",scores,\"\\nAccuracy: \",scores.mean())"
   ]
  },
  {
   "cell_type": "code",
   "execution_count": 12,
   "metadata": {},
   "outputs": [
    {
     "name": "stdout",
     "output_type": "stream",
     "text": [
      "Scores:  [0.91   0.9071 0.9052 0.906  0.9088] \n",
      "Accuracy:  0.9074199999999999\n"
     ]
    }
   ],
   "source": [
    "svm = LinearSVC()\n",
    "# svm.fit(trainVect,y_train)\n",
    "# pred = svm.predict(testVect)\n",
    "# print(\"Accuracy: \",metrics.accuracy_score(y_test, pred))\n",
    "# print(\"Confusion Matrix:\\n\",confusion_matrix(y_test, pred))\n",
    "\n",
    "scores = cross_val_score(svm, tfAll , df[\"sentiment\"].values, cv=5)\n",
    "print(\"Scores: \",scores,\"\\nAccuracy: \",scores.mean())"
   ]
  },
  {
   "cell_type": "code",
   "execution_count": 13,
   "metadata": {},
   "outputs": [
    {
     "name": "stdout",
     "output_type": "stream",
     "text": [
      "C value:  0.001  Scores:  [0.8241 0.8267 0.8247 0.8168 0.8269] \n",
      "Accuracy:  0.82384 \n",
      "\n",
      "C value:  0.01  Scores:  [0.8545 0.8578 0.8546 0.8488 0.8559] \n",
      "Accuracy:  0.8543200000000001 \n",
      "\n",
      "C value:  0.1  Scores:  [0.8943 0.8951 0.8903 0.8921 0.8917] \n",
      "Accuracy:  0.8926999999999999 \n",
      "\n",
      "C value:  10  Scores:  [0.9119 0.9087 0.9083 0.9076 0.9109] \n",
      "Accuracy:  0.90948 \n",
      "\n",
      "C value:  100  Scores:  [0.9119 0.9085 0.909  0.908  0.9118] \n",
      "Accuracy:  0.90984 \n",
      "\n",
      "C value:  1000  Scores:  [0.912  0.9085 0.9091 0.9081 0.9116] \n",
      "Accuracy:  0.9098600000000001 \n",
      "\n"
     ]
    }
   ],
   "source": [
    "for i in cVals:\n",
    "    svm = LinearSVC(C = i)\n",
    "    scores = cross_val_score(svm, tfAll , df[\"sentiment\"].values, cv=5)\n",
    "    print(\"C value: \",i,\" Scores: \",scores,\"\\nAccuracy: \",scores.mean(),\"\\n\")"
   ]
  },
  {
   "cell_type": "code",
   "execution_count": 14,
   "metadata": {},
   "outputs": [
    {
     "name": "stdout",
     "output_type": "stream",
     "text": [
      "Scores:  [0.8923 0.8938 0.8887 0.8913 0.8904] \n",
      "Accuracy:  0.8913\n"
     ]
    }
   ],
   "source": [
    "lr = LogisticRegression()\n",
    "# lr.fit(trainVect,y_train)\n",
    "# pred = lr.predict(testVect)\n",
    "# print(\"Accuracy: \",metrics.accuracy_score(y_test, pred))\n",
    "# print(\"Confusion Matrix:\\n\",confusion_matrix(y_test, pred))\n",
    "\n",
    "scores = cross_val_score(lr, tfAll , df[\"sentiment\"].values, cv=5)\n",
    "print(\"Scores: \",scores,\"\\nAccuracy: \",scores.mean())"
   ]
  },
  {
   "cell_type": "markdown",
   "metadata": {},
   "source": [
    "# FASTTEXT"
   ]
  },
  {
   "cell_type": "code",
   "execution_count": 23,
   "metadata": {},
   "outputs": [],
   "source": [
    "#Train dosyasının hazırlanması\n",
    "f = open(\"fttrain.txt\", \"w\", encoding='utf-8')\n",
    "for i,y in zip(X_train,y_train):\n",
    "    f.write(\"__label__\"+y+\" \"+i.replace('\\n','')+\"\\n\")\n",
    "    \n",
    "\n",
    "#Test dosyasının hazırlanması    \n",
    "f = open(\"fttest.txt\", \"w\", encoding='utf-8')\n",
    "for i,y in zip(X_test,y_test):\n",
    "    f.write(\"__label__\"+y+\" \"+i.replace('\\n','')+\"\\n\")\n",
    "    \n",
    "f.close()"
   ]
  },
  {
   "cell_type": "code",
   "execution_count": 24,
   "metadata": {},
   "outputs": [
    {
     "data": {
      "text/plain": [
       "(10000, 0.9067, 0.9067)"
      ]
     },
     "execution_count": 24,
     "metadata": {},
     "output_type": "execute_result"
    }
   ],
   "source": [
    "model = fasttext.train_supervised(input=\"fttrain.txt\",autotuneValidationFile=\"fttest.txt\", autotuneDuration=3600)\n",
    "\n",
    "# dftest = pd.DataFrame(X_test)\n",
    "# dftest[\"labels\"] = y_test\n",
    "# dftest['labels'] = '__label__' + dftest['labels'].astype(str)\n",
    "\n",
    "# dftest[\"predicted\"] = dftest[\"review\"].apply(lambda x: model.predict(x)[0][0])\n",
    "# cfm =confusion_matrix(dftest[\"labels\"], dftest[\"predicted\"])\n",
    "# print(\"Confusion Matrix:\\n\",cfm,\"\\nAccuracy: \",(cfm.diagonal().sum())/cfm.sum().sum())\n",
    "\n",
    "model.test(\"fttest.txt\")"
   ]
  }
 ],
 "metadata": {
  "kernelspec": {
   "display_name": "Python 3",
   "language": "python",
   "name": "python3"
  },
  "language_info": {
   "codemirror_mode": {
    "name": "ipython",
    "version": 3
   },
   "file_extension": ".py",
   "mimetype": "text/x-python",
   "name": "python",
   "nbconvert_exporter": "python",
   "pygments_lexer": "ipython3",
   "version": "3.8.0"
  }
 },
 "nbformat": 4,
 "nbformat_minor": 4
}
